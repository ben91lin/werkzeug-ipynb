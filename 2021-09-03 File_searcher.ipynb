{
 "cells": [
  {
   "cell_type": "code",
   "execution_count": 1,
   "id": "d60d0ff6",
   "metadata": {},
   "outputs": [],
   "source": [
    "import os"
   ]
  },
  {
   "cell_type": "code",
   "execution_count": 49,
   "id": "2e87d923",
   "metadata": {},
   "outputs": [],
   "source": [
    "class FileSearcher:\n",
    "    \n",
    "    def __init__(self, dirs: str or list):\n",
    "        self.files = self._search_file(dirs)\n",
    "        \n",
    "    def _search_file(self, dirs:str or list) -> list:\n",
    "        dirs = [dirs] if type(dirs) != list else dirs\n",
    "        outputs = []\n",
    "        while len(dirs) != 0:\n",
    "            path = dirs.pop()\n",
    "            for p in os.listdir(path):\n",
    "                p = os.path.join(path, p)\n",
    "                if os.path.isdir(p):\n",
    "                    dirs.append(p)\n",
    "                else:\n",
    "                    outputs.append(p)\n",
    "        return outputs\n",
    "    \n",
    "    def filter_by_name(self, string: str) -> FileSearcher:\n",
    "        self.files = [f for f in self.files if string in f]\n",
    "        return self\n",
    "        \n",
    "    def filter_by_ext(self, exts: list) -> FileSearcher:\n",
    "        exts = [exts] if type(exts) != list else exts\n",
    "        self.files = [f for f in self.files if f.split('.').pop() in exts]\n",
    "        return self\n",
    "\n",
    "    def file_contain(self, strings: list) -> FileSearcher:\n",
    "        strings = [strings] if type(strings) != list else strings\n",
    "        self.files = [f for f in self.files if self._any(f, strings)]\n",
    "        return self\n",
    "        \n",
    "    def file_full_match(self, strings: list) -> FileSearcher:\n",
    "        strings = [strings] if type(strings) != list else strings\n",
    "        self.files = [f for f in self.files if self._all(f, strings)]\n",
    "        return self\n",
    "        \n",
    "    def _all(self, file_path, strings: list) -> bool:\n",
    "        strings = [strings] if type(strings) != list else strings\n",
    "        with open(file_path, 'r', encoding = 'utf8') as f:\n",
    "            text = f.read()\n",
    "            return all(s in text for s in strings)\n",
    "    \n",
    "    def _any(self, file_path, strings: list) -> bool:\n",
    "        strings = [strings] if type(strings) != list else strings\n",
    "        with open(file_path, 'r', encoding = 'utf8') as f:\n",
    "            text = f.read()\n",
    "            return any(s in text for s in strings)\n",
    "        \n",
    "    def __repr__(self) -> str:\n",
    "        return f'total: {len(self.files)} files.'"
   ]
  },
  {
   "cell_type": "code",
   "execution_count": 66,
   "id": "7d1cc72a",
   "metadata": {},
   "outputs": [],
   "source": [
    "def open_by_vscode(files: list, step: int = 5) -> iter:\n",
    "    files = [files] if type(files) != list else files\n",
    "    \n",
    "    class Iter:      \n",
    "        def __init__(self, files: list, step):\n",
    "            self.files = files\n",
    "            self.step = step\n",
    "            \n",
    "        def __next__(self):\n",
    "            for i in range(step):\n",
    "                if len(self.files) == 0: break\n",
    "                \n",
    "                os.system(f'code {self.files.pop()}')\n",
    "                \n",
    "    return Iter(files, step)"
   ]
  },
  {
   "cell_type": "code",
   "execution_count": 80,
   "id": "bb4b85a1",
   "metadata": {},
   "outputs": [
    {
     "name": "stdout",
     "output_type": "stream",
     "text": [
      "total: 1407 files.\n",
      "total: 1226 files.\n"
     ]
    },
    {
     "data": {
      "text/plain": [
       "total: 243 files."
      ]
     },
     "execution_count": 80,
     "metadata": {},
     "output_type": "execute_result"
    }
   ],
   "source": [
    "# example\n",
    "# f = FileSearcher('dir_name')\n",
    "# f.filter_by_name('name')\n",
    "# f.filter_by_ext(['py'])\n",
    "# f.file_contain(['news'])\n",
    "# f.file_full_match(['china'])\n",
    "# f\n",
    "# f.files"
   ]
  },
  {
   "cell_type": "code",
   "execution_count": 76,
   "id": "a5e18db1",
   "metadata": {},
   "outputs": [],
   "source": [
    "# example\n",
    "# o = open_by_vscode(f.files)"
   ]
  },
  {
   "cell_type": "code",
   "execution_count": 79,
   "id": "761b5478",
   "metadata": {},
   "outputs": [],
   "source": [
    "# example\n",
    "# next(o)"
   ]
  },
  {
   "cell_type": "code",
   "execution_count": null,
   "id": "0aca5046",
   "metadata": {},
   "outputs": [],
   "source": []
  }
 ],
 "metadata": {
  "kernelspec": {
   "display_name": "Python 3 (ipykernel)",
   "language": "python",
   "name": "python3"
  },
  "language_info": {
   "codemirror_mode": {
    "name": "ipython",
    "version": 3
   },
   "file_extension": ".py",
   "mimetype": "text/x-python",
   "name": "python",
   "nbconvert_exporter": "python",
   "pygments_lexer": "ipython3",
   "version": "3.9.7"
  }
 },
 "nbformat": 4,
 "nbformat_minor": 5
}
