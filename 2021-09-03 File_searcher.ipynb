{
 "cells": [
  {
   "cell_type": "code",
   "execution_count": 1,
   "source": [
    "import os"
   ],
   "outputs": [],
   "metadata": {}
  },
  {
   "cell_type": "code",
   "execution_count": 2,
   "source": [
    "class FileSearcher:\n",
    "    \n",
    "    def __init__(self, dirs: list):\n",
    "        self.files = self._search(dirs)\n",
    "        \n",
    "    def _search(self, dirs: list) -> list:\n",
    "        dirs = [dirs] if type(dirs) != list else dirs\n",
    "        outputs = []\n",
    "        while len(dirs) != 0:\n",
    "            path = dirs.pop()\n",
    "            for p in os.listdir(path):\n",
    "                p = os.path.join(path, p)\n",
    "                if os.path.isdir(p):\n",
    "                    dirs.append(p)\n",
    "                else:\n",
    "                    outputs.append(p)\n",
    "        return outputs\n",
    "    \n",
    "    def name(self, string: str):\n",
    "        self.files = [f for f in self.files if string in f]\n",
    "        return self\n",
    "        \n",
    "    def ext(self, exts: list):\n",
    "        exts = [exts] if type(exts) != list else exts\n",
    "        self.files = [f for f in self.files if f.split('.').pop() in exts]\n",
    "        return self\n",
    "\n",
    "    def partially_contain(self, strings: list):\n",
    "        '''\n",
    "            Filter the file contain at least one string in string-list.\n",
    "        '''\n",
    "        strings = [strings] if type(strings) != list else strings\n",
    "        self.files = [f for f in self.files if self._any(f, strings)]\n",
    "        return self\n",
    "        \n",
    "    def fully_contain(self, strings: list):\n",
    "        '''\n",
    "            Filter the file contain all string list.\n",
    "        '''\n",
    "        strings = [strings] if type(strings) != list else strings\n",
    "        self.files = [f for f in self.files if self._all(f, strings)]\n",
    "        return self\n",
    "        \n",
    "    def _all(self, file_path, strings: list) -> bool:\n",
    "        strings = [strings] if type(strings) != list else strings\n",
    "        with open(file_path, 'r', encoding = 'utf8') as f:\n",
    "            text = f.read()\n",
    "            return all(s in text for s in strings)\n",
    "    \n",
    "    def _any(self, file_path, strings: list) -> bool:\n",
    "        strings = [strings] if type(strings) != list else strings\n",
    "        with open(file_path, 'r', encoding = 'utf8') as f:\n",
    "            text = f.read()\n",
    "            return any(s in text for s in strings)\n",
    "        \n",
    "    def __repr__(self) -> str:\n",
    "        return f'total: {len(self.files)} files.'"
   ],
   "outputs": [],
   "metadata": {}
  },
  {
   "cell_type": "code",
   "execution_count": 3,
   "source": [
    "def open_by_vscode(files: list, step: int = 5) -> iter:\n",
    "    files = [files] if type(files) != list else files\n",
    "    \n",
    "    class Iter:      \n",
    "        def __init__(self, files: list, step):\n",
    "            self.files = files\n",
    "            self.step = step\n",
    "            \n",
    "        def __next__(self):\n",
    "            for i in range(step):\n",
    "                if len(self.files) == 0: break\n",
    "                \n",
    "                os.system(f'code {self.files.pop()}')\n",
    "                \n",
    "    return Iter(files, step)"
   ],
   "outputs": [],
   "metadata": {}
  },
  {
   "cell_type": "code",
   "execution_count": 4,
   "source": [
    "# example\n",
    "# f = FileSearcher('/Users/linzhemin/training_crawler')\n",
    "# f.name('ch').ext(['py']).partially_contain(['news']).fully_contain(['china'])\n",
    "# f\n",
    "# f.files"
   ],
   "outputs": [],
   "metadata": {}
  },
  {
   "cell_type": "code",
   "execution_count": 5,
   "source": [
    "# example\n",
    "# o = open_by_vscode(f.files)"
   ],
   "outputs": [],
   "metadata": {}
  },
  {
   "cell_type": "code",
   "execution_count": 6,
   "source": [
    "# example\n",
    "# next(o)"
   ],
   "outputs": [],
   "metadata": {}
  },
  {
   "cell_type": "code",
   "execution_count": null,
   "source": [],
   "outputs": [],
   "metadata": {}
  }
 ],
 "metadata": {
  "kernelspec": {
   "name": "python3",
   "display_name": "Python 3.9.7 64-bit"
  },
  "language_info": {
   "codemirror_mode": {
    "name": "ipython",
    "version": 3
   },
   "file_extension": ".py",
   "mimetype": "text/x-python",
   "name": "python",
   "nbconvert_exporter": "python",
   "pygments_lexer": "ipython3",
   "version": "3.9.7"
  },
  "interpreter": {
   "hash": "aee8b7b246df8f9039afb4144a1f6fd8d2ca17a180786b69acc140d282b71a49"
  }
 },
 "nbformat": 4,
 "nbformat_minor": 5
}